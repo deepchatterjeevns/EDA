{
 "cells": [
  {
   "cell_type": "code",
   "execution_count": 35,
   "metadata": {},
   "outputs": [],
   "source": [
    "import pandas as pd\n",
    "import numpy as np\n",
    "import matplotlib.pyplot as plt\n",
    "from matplotlib.ticker import StrMethodFormatter\n",
    "import seaborn as sns\n"
   ]
  },
  {
   "cell_type": "code",
   "execution_count": 76,
   "metadata": {},
   "outputs": [],
   "source": [
    "crime = pd.read_csv('Crimes_2018_Modified.csv')\n",
    "housing = pd.read_csv('Housing_Modified.csv')\n"
   ]
  },
  {
   "cell_type": "code",
   "execution_count": 3,
   "metadata": {},
   "outputs": [
    {
     "data": {
      "text/html": [
       "<div>\n",
       "<style scoped>\n",
       "    .dataframe tbody tr th:only-of-type {\n",
       "        vertical-align: middle;\n",
       "    }\n",
       "\n",
       "    .dataframe tbody tr th {\n",
       "        vertical-align: top;\n",
       "    }\n",
       "\n",
       "    .dataframe thead th {\n",
       "        text-align: right;\n",
       "    }\n",
       "</style>\n",
       "<table border=\"1\" class=\"dataframe\">\n",
       "  <thead>\n",
       "    <tr style=\"text-align: right;\">\n",
       "      <th></th>\n",
       "      <th>ID</th>\n",
       "      <th>Case Number</th>\n",
       "      <th>Date</th>\n",
       "      <th>Block</th>\n",
       "      <th>IUCR</th>\n",
       "      <th>Primary_Type</th>\n",
       "      <th>Description</th>\n",
       "      <th>Location_Description</th>\n",
       "      <th>Arrest</th>\n",
       "      <th>Domestic</th>\n",
       "      <th>...</th>\n",
       "      <th>Y Coordinate</th>\n",
       "      <th>Year</th>\n",
       "      <th>Historical Wards 2003-2015</th>\n",
       "      <th>Zip Codes</th>\n",
       "      <th>Community Areas</th>\n",
       "      <th>Census Tracts</th>\n",
       "      <th>Wards</th>\n",
       "      <th>Boundaries - ZIP Codes</th>\n",
       "      <th>Police_Districts</th>\n",
       "      <th>Police Beats</th>\n",
       "    </tr>\n",
       "  </thead>\n",
       "  <tbody>\n",
       "    <tr>\n",
       "      <th>0</th>\n",
       "      <td>11556487</td>\n",
       "      <td>JC104662</td>\n",
       "      <td>12/31/2018 11:59:00 PM</td>\n",
       "      <td>112XX S SACRAMENTO AVE</td>\n",
       "      <td>1320</td>\n",
       "      <td>CRIMINAL DAMAGE</td>\n",
       "      <td>TO VEHICLE</td>\n",
       "      <td>STREET</td>\n",
       "      <td>False</td>\n",
       "      <td>False</td>\n",
       "      <td>...</td>\n",
       "      <td>1829936.0</td>\n",
       "      <td>2018</td>\n",
       "      <td>33.0</td>\n",
       "      <td>4447.0</td>\n",
       "      <td>73.0</td>\n",
       "      <td>256.0</td>\n",
       "      <td>42.0</td>\n",
       "      <td>33.0</td>\n",
       "      <td>9.0</td>\n",
       "      <td>254.0</td>\n",
       "    </tr>\n",
       "    <tr>\n",
       "      <th>1</th>\n",
       "      <td>11561837</td>\n",
       "      <td>JC110056</td>\n",
       "      <td>12/31/2018 11:59:00 PM</td>\n",
       "      <td>013XX W 72ND ST</td>\n",
       "      <td>1153</td>\n",
       "      <td>DECEPTIVE PRACTICE</td>\n",
       "      <td>FINANCIAL IDENTITY THEFT OVER $ 300</td>\n",
       "      <td>NaN</td>\n",
       "      <td>False</td>\n",
       "      <td>False</td>\n",
       "      <td>...</td>\n",
       "      <td>1857018.0</td>\n",
       "      <td>2018</td>\n",
       "      <td>17.0</td>\n",
       "      <td>22257.0</td>\n",
       "      <td>65.0</td>\n",
       "      <td>408.0</td>\n",
       "      <td>32.0</td>\n",
       "      <td>23.0</td>\n",
       "      <td>17.0</td>\n",
       "      <td>216.0</td>\n",
       "    </tr>\n",
       "  </tbody>\n",
       "</table>\n",
       "<p>2 rows × 26 columns</p>\n",
       "</div>"
      ],
      "text/plain": [
       "         ID Case Number                    Date                   Block  IUCR  \\\n",
       "0  11556487    JC104662  12/31/2018 11:59:00 PM  112XX S SACRAMENTO AVE  1320   \n",
       "1  11561837    JC110056  12/31/2018 11:59:00 PM         013XX W 72ND ST  1153   \n",
       "\n",
       "         Primary_Type                          Description  \\\n",
       "0     CRIMINAL DAMAGE                           TO VEHICLE   \n",
       "1  DECEPTIVE PRACTICE  FINANCIAL IDENTITY THEFT OVER $ 300   \n",
       "\n",
       "  Location_Description  Arrest  Domestic      ...       Y Coordinate  Year  \\\n",
       "0               STREET   False     False      ...          1829936.0  2018   \n",
       "1                  NaN   False     False      ...          1857018.0  2018   \n",
       "\n",
       "   Historical Wards 2003-2015  Zip Codes Community Areas  Census Tracts  \\\n",
       "0                        33.0     4447.0            73.0          256.0   \n",
       "1                        17.0    22257.0            65.0          408.0   \n",
       "\n",
       "   Wards  Boundaries - ZIP Codes  Police_Districts  Police Beats  \n",
       "0   42.0                    33.0               9.0         254.0  \n",
       "1   32.0                    23.0              17.0         216.0  \n",
       "\n",
       "[2 rows x 26 columns]"
      ]
     },
     "execution_count": 3,
     "metadata": {},
     "output_type": "execute_result"
    }
   ],
   "source": [
    "crime.head(2)"
   ]
  },
  {
   "cell_type": "code",
   "execution_count": 4,
   "metadata": {},
   "outputs": [
    {
     "data": {
      "text/html": [
       "<div>\n",
       "<style scoped>\n",
       "    .dataframe tbody tr th:only-of-type {\n",
       "        vertical-align: middle;\n",
       "    }\n",
       "\n",
       "    .dataframe tbody tr th {\n",
       "        vertical-align: top;\n",
       "    }\n",
       "\n",
       "    .dataframe thead th {\n",
       "        text-align: right;\n",
       "    }\n",
       "</style>\n",
       "<table border=\"1\" class=\"dataframe\">\n",
       "  <thead>\n",
       "    <tr style=\"text-align: right;\">\n",
       "      <th></th>\n",
       "      <th>Community_Area_Name</th>\n",
       "      <th>Community_Area_Number</th>\n",
       "      <th>Property_Type</th>\n",
       "      <th>Property_Name</th>\n",
       "      <th>Address</th>\n",
       "      <th>Zip_Code</th>\n",
       "      <th>Phone_Number</th>\n",
       "      <th>Management_Company</th>\n",
       "      <th>Units</th>\n",
       "      <th>X_Coordinate</th>\n",
       "      <th>Y_Coordinate</th>\n",
       "      <th>Latitude</th>\n",
       "      <th>Longitude</th>\n",
       "      <th>Location</th>\n",
       "      <th>Historical_Wards_2003-2015</th>\n",
       "      <th>Wards</th>\n",
       "      <th>Community_Areas</th>\n",
       "      <th>Zip_Codes</th>\n",
       "      <th>Census_Tracts</th>\n",
       "    </tr>\n",
       "  </thead>\n",
       "  <tbody>\n",
       "    <tr>\n",
       "      <th>0</th>\n",
       "      <td>Edgewater</td>\n",
       "      <td>77</td>\n",
       "      <td>Multifamily</td>\n",
       "      <td>Winthrop Apts.</td>\n",
       "      <td>6214 N. Winthrop Ave.</td>\n",
       "      <td>60660</td>\n",
       "      <td>773-477-7070</td>\n",
       "      <td>Hunter Properties</td>\n",
       "      <td>108</td>\n",
       "      <td>1167688.709</td>\n",
       "      <td>1941496.368</td>\n",
       "      <td>41.995015</td>\n",
       "      <td>-87.658516</td>\n",
       "      <td>(41.9950154576, -87.6585160357)</td>\n",
       "      <td>40</td>\n",
       "      <td>16</td>\n",
       "      <td>76</td>\n",
       "      <td>4451</td>\n",
       "      <td>45</td>\n",
       "    </tr>\n",
       "    <tr>\n",
       "      <th>1</th>\n",
       "      <td>North Lawndale</td>\n",
       "      <td>29</td>\n",
       "      <td>Multifamily</td>\n",
       "      <td>Resurrection Homes</td>\n",
       "      <td>1910 S. Albany Ave.</td>\n",
       "      <td>60623</td>\n",
       "      <td>312-248-8355</td>\n",
       "      <td>The Resurrection Project</td>\n",
       "      <td>2</td>\n",
       "      <td>1155952.715</td>\n",
       "      <td>1890430.854</td>\n",
       "      <td>41.855133</td>\n",
       "      <td>-87.703067</td>\n",
       "      <td>(41.8551333961, -87.7030673957)</td>\n",
       "      <td>36</td>\n",
       "      <td>14</td>\n",
       "      <td>30</td>\n",
       "      <td>21569</td>\n",
       "      <td>132</td>\n",
       "    </tr>\n",
       "  </tbody>\n",
       "</table>\n",
       "</div>"
      ],
      "text/plain": [
       "  Community_Area_Name  Community_Area_Number Property_Type  \\\n",
       "0           Edgewater                     77   Multifamily   \n",
       "1      North Lawndale                     29   Multifamily   \n",
       "\n",
       "        Property_Name                Address  Zip_Code  Phone_Number  \\\n",
       "0      Winthrop Apts.  6214 N. Winthrop Ave.     60660  773-477-7070   \n",
       "1  Resurrection Homes    1910 S. Albany Ave.     60623  312-248-8355   \n",
       "\n",
       "         Management_Company  Units  X_Coordinate  Y_Coordinate   Latitude  \\\n",
       "0         Hunter Properties    108   1167688.709   1941496.368  41.995015   \n",
       "1  The Resurrection Project      2   1155952.715   1890430.854  41.855133   \n",
       "\n",
       "   Longitude                         Location  Historical_Wards_2003-2015  \\\n",
       "0 -87.658516  (41.9950154576, -87.6585160357)                          40   \n",
       "1 -87.703067  (41.8551333961, -87.7030673957)                          36   \n",
       "\n",
       "   Wards  Community_Areas  Zip_Codes  Census_Tracts  \n",
       "0     16               76       4451             45  \n",
       "1     14               30      21569            132  "
      ]
     },
     "execution_count": 4,
     "metadata": {},
     "output_type": "execute_result"
    }
   ],
   "source": [
    "housing.head(2)"
   ]
  },
  {
   "cell_type": "code",
   "execution_count": 5,
   "metadata": {},
   "outputs": [
    {
     "data": {
      "text/plain": [
       "array([77, 29,  6, 53, 49, 23, 30, 18, 42, 55, 24, 19, 28, 35, 46, 10, 27,\n",
       "       38, 22,  3, 39, 70, 31, 40, 14, 73,  5,  8, 33, 36, 66, 13, 17,  4,\n",
       "       50, 26, 25, 68, 69, 43, 51, 45, 61,  2, 65, 16,  1, 71, 15, 44, 60,\n",
       "       54, 37, 63, 41, 11, 56, 32, 67, 21, 62, 58], dtype=int64)"
      ]
     },
     "execution_count": 5,
     "metadata": {},
     "output_type": "execute_result"
    }
   ],
   "source": [
    "housing['Community_Area_Number'].unique()"
   ]
  },
  {
   "cell_type": "code",
   "execution_count": 6,
   "metadata": {},
   "outputs": [
    {
     "data": {
      "text/plain": [
       "Index(['ID', 'Case Number', 'Date', 'Block', 'IUCR', 'Primary_Type',\n",
       "       'Description', 'Location_Description', 'Arrest', 'Domestic', 'Beat',\n",
       "       'District', 'Ward', 'Community_Area_Number', 'FBI Code', 'X Coordinate',\n",
       "       'Y Coordinate', 'Year', 'Historical Wards 2003-2015', 'Zip Codes',\n",
       "       'Community Areas', 'Census Tracts', 'Wards', 'Boundaries - ZIP Codes',\n",
       "       'Police_Districts', 'Police Beats'],\n",
       "      dtype='object')"
      ]
     },
     "execution_count": 6,
     "metadata": {},
     "output_type": "execute_result"
    }
   ],
   "source": [
    "crime.columns"
   ]
  },
  {
   "cell_type": "code",
   "execution_count": 7,
   "metadata": {},
   "outputs": [
    {
     "data": {
      "text/plain": [
       "STREET                                          59023\n",
       "RESIDENCE                                       44620\n",
       "APARTMENT                                       34508\n",
       "SIDEWALK                                        21103\n",
       "OTHER                                           10843\n",
       "PARKING LOT/GARAGE(NON.RESID.)                   7657\n",
       "RESTAURANT                                       7330\n",
       "SMALL RETAIL STORE                               7275\n",
       "RESIDENTIAL YARD (FRONT/BACK)                    5147\n",
       "VEHICLE NON-COMMERCIAL                           5084\n",
       "ALLEY                                            4990\n",
       "DEPARTMENT STORE                                 4722\n",
       "RESIDENCE PORCH/HALLWAY                          4699\n",
       "RESIDENCE-GARAGE                                 3885\n",
       "GAS STATION                                      3735\n",
       "GROCERY FOOD STORE                               3475\n",
       "SCHOOL, PUBLIC, BUILDING                         3448\n",
       "BAR OR TAVERN                                    2193\n",
       "CTA TRAIN                                        2178\n",
       "CONVENIENCE STORE                                2103\n",
       "PARK PROPERTY                                    1762\n",
       "COMMERCIAL / BUSINESS OFFICE                     1704\n",
       "HOTEL/MOTEL                                      1523\n",
       "HOSPITAL BUILDING/GROUNDS                        1357\n",
       "CTA STATION                                      1183\n",
       "DRUG STORE                                       1122\n",
       "BANK                                             1035\n",
       "SCHOOL, PUBLIC, GROUNDS                          1031\n",
       "CTA PLATFORM                                      986\n",
       "POLICE FACILITY/VEH PARKING LOT                   961\n",
       "                                                ...  \n",
       "AIRPORT TERMINAL MEZZANINE - NON-SECURE AREA       10\n",
       "VEHICLE-COMMERCIAL - ENTERTAINMENT/PARTY BUS        8\n",
       "VACANT LOT                                          7\n",
       "AIRPORT TRANSPORTATION SYSTEM (ATS)                 7\n",
       "VEHICLE-COMMERCIAL - TROLLEY BUS                    6\n",
       "FOREST PRESERVE                                     4\n",
       "NEWSSTAND                                           4\n",
       "GARAGE                                              4\n",
       "CHA GROUNDS                                         3\n",
       "HOTEL                                               3\n",
       "HOSPITAL                                            3\n",
       "HORSE STABLE                                        2\n",
       "HALLWAY                                             2\n",
       "GANGWAY                                             2\n",
       "GARAGE/AUTO REPAIR                                  2\n",
       "FARM                                                2\n",
       "WOODED AREA                                         2\n",
       "STAIRWELL                                           2\n",
       "CHA PARKING LOT                                     1\n",
       "GAS STATION DRIVE/PROP.                             1\n",
       "CTA PROPERTY                                        1\n",
       "GOVERNMENT BUILDING                                 1\n",
       "BARBER SHOP/BEAUTY SALON                            1\n",
       "KENNEL                                              1\n",
       "DRIVEWAY                                            1\n",
       "RETAIL STORE                                        1\n",
       "RIVER BANK                                          1\n",
       "LIQUOR STORE                                        1\n",
       "YMCA                                                1\n",
       "OFFICE                                              1\n",
       "Name: Location_Description, Length: 132, dtype: int64"
      ]
     },
     "execution_count": 7,
     "metadata": {},
     "output_type": "execute_result"
    }
   ],
   "source": [
    "crime.Location_Description.value_counts()"
   ]
  },
  {
   "cell_type": "code",
   "execution_count": 8,
   "metadata": {},
   "outputs": [
    {
     "data": {
      "text/plain": [
       "THEFT                                65155\n",
       "BATTERY                              49791\n",
       "CRIMINAL DAMAGE                      27816\n",
       "ASSAULT                              20390\n",
       "DECEPTIVE PRACTICE                   18937\n",
       "OTHER OFFENSE                        17167\n",
       "NARCOTICS                            13231\n",
       "BURGLARY                             11734\n",
       "MOTOR VEHICLE THEFT                   9979\n",
       "ROBBERY                               9682\n",
       "CRIMINAL TRESPASS                     6905\n",
       "WEAPONS VIOLATION                     5453\n",
       "OFFENSE INVOLVING CHILDREN            2240\n",
       "CRIM SEXUAL ASSAULT                   1628\n",
       "PUBLIC PEACE VIOLATION                1371\n",
       "INTERFERENCE WITH PUBLIC OFFICER      1305\n",
       "SEX OFFENSE                           1114\n",
       "PROSTITUTION                           718\n",
       "HOMICIDE                               589\n",
       "ARSON                                  373\n",
       "LIQUOR LAW VIOLATION                   268\n",
       "STALKING                               204\n",
       "GAMBLING                               201\n",
       "KIDNAPPING                             171\n",
       "INTIMIDATION                           169\n",
       "CONCEALED CARRY LICENSE VIOLATION      149\n",
       "OBSCENITY                               87\n",
       "NON-CRIMINAL                            36\n",
       "PUBLIC INDECENCY                        14\n",
       "HUMAN TRAFFICKING                       12\n",
       "NON-CRIMINAL (SUBJECT SPECIFIED)         3\n",
       "OTHER NARCOTIC VIOLATION                 1\n",
       "Name: Primary_Type, dtype: int64"
      ]
     },
     "execution_count": 8,
     "metadata": {},
     "output_type": "execute_result"
    }
   ],
   "source": [
    "crime.Primary_Type.value_counts()"
   ]
  },
  {
   "cell_type": "code",
   "execution_count": 9,
   "metadata": {},
   "outputs": [],
   "source": [
    "#pd.pivot_table(df,index=['v1'],columns=['v2'=='A'],values=['v3'],aggfunc='count')"
   ]
  },
  {
   "cell_type": "code",
   "execution_count": 10,
   "metadata": {},
   "outputs": [],
   "source": [
    "crime['Month'] = pd.DatetimeIndex(crime['Date']).month"
   ]
  },
  {
   "cell_type": "markdown",
   "metadata": {},
   "source": [
    "# 1.\tPlot the Chart – Top 10 crimes recorded. "
   ]
  },
  {
   "cell_type": "code",
   "execution_count": 11,
   "metadata": {},
   "outputs": [
    {
     "data": {
      "text/plain": [
       "<matplotlib.axes._subplots.AxesSubplot at 0x25d69fa6780>"
      ]
     },
     "execution_count": 11,
     "metadata": {},
     "output_type": "execute_result"
    },
    {
     "data": {
      "image/png": "[encoded data removed]",
      "text/plain": [
       "<Figure size 432x288 with 1 Axes>"
      ]
     },
     "metadata": {
      "needs_background": "light"
     },
     "output_type": "display_data"
    }
   ],
   "source": [
    "crime['Primary_Type'].value_counts().head(10).plot('bar')"
   ]
  },
  {
   "cell_type": "markdown",
   "metadata": {},
   "source": [
    "# 2.\tHow many times Police made arrests on Domestic Crimes?"
   ]
  },
  {
   "cell_type": "code",
   "execution_count": 12,
   "metadata": {},
   "outputs": [
    {
     "data": {
      "text/plain": [
       "7564"
      ]
     },
     "execution_count": 12,
     "metadata": {},
     "output_type": "execute_result"
    }
   ],
   "source": [
    "crime[(crime['Domestic']==True)&(crime['Arrest']==True)]['ID'].count()"
   ]
  },
  {
   "cell_type": "markdown",
   "metadata": {},
   "source": [
    "# 3.\tMention 5 safest communities to live according to data"
   ]
  },
  {
   "cell_type": "code",
   "execution_count": 90,
   "metadata": {},
   "outputs": [
    {
     "data": {
      "text/plain": [
       "0         73.0\n",
       "1         65.0\n",
       "2         70.0\n",
       "3         33.0\n",
       "4         70.0\n",
       "5         26.0\n",
       "6         70.0\n",
       "7         46.0\n",
       "8         24.0\n",
       "9         57.0\n",
       "10        31.0\n",
       "11        67.0\n",
       "12        19.0\n",
       "13        10.0\n",
       "14        40.0\n",
       "15        37.0\n",
       "16        29.0\n",
       "17        16.0\n",
       "18        70.0\n",
       "19        72.0\n",
       "20        30.0\n",
       "21        57.0\n",
       "22        64.0\n",
       "23        69.0\n",
       "24        72.0\n",
       "25        15.0\n",
       "26        37.0\n",
       "27        26.0\n",
       "28        32.0\n",
       "29        24.0\n",
       "          ... \n",
       "266863    45.0\n",
       "266864    19.0\n",
       "266865    70.0\n",
       "266866    30.0\n",
       "266867    64.0\n",
       "266868     NaN\n",
       "266869    40.0\n",
       "266870    10.0\n",
       "266871    16.0\n",
       "266872    25.0\n",
       "266873    39.0\n",
       "266874     2.0\n",
       "266875    17.0\n",
       "266876    32.0\n",
       "266877    57.0\n",
       "266878    68.0\n",
       "266879    41.0\n",
       "266880    26.0\n",
       "266881    37.0\n",
       "266882    35.0\n",
       "266883    69.0\n",
       "266884     NaN\n",
       "266885    15.0\n",
       "266886    26.0\n",
       "266887    73.0\n",
       "266888    53.0\n",
       "266889    61.0\n",
       "266890    33.0\n",
       "266891    38.0\n",
       "266892     NaN\n",
       "Name: Community Areas, Length: 266893, dtype: float64"
      ]
     },
     "execution_count": 90,
     "metadata": {},
     "output_type": "execute_result"
    }
   ],
   "source": []
  },
  {
   "cell_type": "code",
   "execution_count": 87,
   "metadata": {},
   "outputs": [
    {
     "data": {
      "text/plain": [
       "Index(['Community_Area_Name', 'Community_Area_Number', 'Property_Type',\n",
       "       'Property_Name', 'Address', 'Zip_Code', 'Phone_Number',\n",
       "       'Management_Company', 'Units', 'X_Coordinate', 'Y_Coordinate',\n",
       "       'Latitude', 'Longitude', 'Location', 'Historical_Wards_2003-2015',\n",
       "       'Wards', 'Community_Areas', 'Zip_Codes', 'Census_Tracts'],\n",
       "      dtype='object')"
      ]
     },
     "execution_count": 87,
     "metadata": {},
     "output_type": "execute_result"
    }
   ],
   "source": [
    "housing.columns"
   ]
  },
  {
   "cell_type": "code",
   "execution_count": 82,
   "metadata": {},
   "outputs": [],
   "source": [
    "data = pd.merge(crime,housing,on='Community_Area_Number')"
   ]
  },
  {
   "cell_type": "code",
   "execution_count": 89,
   "metadata": {},
   "outputs": [
    {
     "data": {
      "text/html": [
       "<div>\n",
       "<style scoped>\n",
       "    .dataframe tbody tr th:only-of-type {\n",
       "        vertical-align: middle;\n",
       "    }\n",
       "\n",
       "    .dataframe tbody tr th {\n",
       "        vertical-align: top;\n",
       "    }\n",
       "\n",
       "    .dataframe thead th {\n",
       "        text-align: right;\n",
       "    }\n",
       "</style>\n",
       "<table border=\"1\" class=\"dataframe\">\n",
       "  <thead>\n",
       "    <tr style=\"text-align: right;\">\n",
       "      <th></th>\n",
       "      <th>ID</th>\n",
       "      <th>Case Number</th>\n",
       "      <th>Date</th>\n",
       "      <th>Block</th>\n",
       "      <th>IUCR</th>\n",
       "      <th>Primary_Type</th>\n",
       "      <th>Description</th>\n",
       "      <th>Location_Description</th>\n",
       "      <th>Arrest</th>\n",
       "      <th>Domestic</th>\n",
       "      <th>...</th>\n",
       "      <th>X_Coordinate</th>\n",
       "      <th>Y_Coordinate</th>\n",
       "      <th>Latitude</th>\n",
       "      <th>Longitude</th>\n",
       "      <th>Location</th>\n",
       "      <th>Historical_Wards_2003-2015</th>\n",
       "      <th>Wards_y</th>\n",
       "      <th>Community_Areas</th>\n",
       "      <th>Zip_Codes</th>\n",
       "      <th>Census_Tracts</th>\n",
       "    </tr>\n",
       "  </thead>\n",
       "  <tbody>\n",
       "    <tr>\n",
       "      <th>0</th>\n",
       "      <td>11561837</td>\n",
       "      <td>JC110056</td>\n",
       "      <td>12/31/2018 11:59:00 PM</td>\n",
       "      <td>013XX W 72ND ST</td>\n",
       "      <td>1153</td>\n",
       "      <td>DECEPTIVE PRACTICE</td>\n",
       "      <td>FINANCIAL IDENTITY THEFT OVER $ 300</td>\n",
       "      <td>NaN</td>\n",
       "      <td>False</td>\n",
       "      <td>False</td>\n",
       "      <td>...</td>\n",
       "      <td>1163257.203</td>\n",
       "      <td>1862800.707</td>\n",
       "      <td>41.779163</td>\n",
       "      <td>-87.677031</td>\n",
       "      <td>(41.7791628235, -87.6770311971)</td>\n",
       "      <td>44</td>\n",
       "      <td>2</td>\n",
       "      <td>65</td>\n",
       "      <td>22257</td>\n",
       "      <td>282</td>\n",
       "    </tr>\n",
       "    <tr>\n",
       "      <th>1</th>\n",
       "      <td>11561837</td>\n",
       "      <td>JC110056</td>\n",
       "      <td>12/31/2018 11:59:00 PM</td>\n",
       "      <td>013XX W 72ND ST</td>\n",
       "      <td>1153</td>\n",
       "      <td>DECEPTIVE PRACTICE</td>\n",
       "      <td>FINANCIAL IDENTITY THEFT OVER $ 300</td>\n",
       "      <td>NaN</td>\n",
       "      <td>False</td>\n",
       "      <td>False</td>\n",
       "      <td>...</td>\n",
       "      <td>1166121.345</td>\n",
       "      <td>1862956.686</td>\n",
       "      <td>41.779530</td>\n",
       "      <td>-87.666527</td>\n",
       "      <td>(41.779530386, -87.6665265092)</td>\n",
       "      <td>44</td>\n",
       "      <td>3</td>\n",
       "      <td>65</td>\n",
       "      <td>22257</td>\n",
       "      <td>276</td>\n",
       "    </tr>\n",
       "    <tr>\n",
       "      <th>2</th>\n",
       "      <td>11554125</td>\n",
       "      <td>JC101713</td>\n",
       "      <td>12/31/2018 11:00:00 PM</td>\n",
       "      <td>058XX S DAMEN AVE</td>\n",
       "      <td>810</td>\n",
       "      <td>THEFT</td>\n",
       "      <td>OVER $500</td>\n",
       "      <td>RESIDENTIAL YARD (FRONT/BACK)</td>\n",
       "      <td>False</td>\n",
       "      <td>False</td>\n",
       "      <td>...</td>\n",
       "      <td>1163257.203</td>\n",
       "      <td>1862800.707</td>\n",
       "      <td>41.779163</td>\n",
       "      <td>-87.677031</td>\n",
       "      <td>(41.7791628235, -87.6770311971)</td>\n",
       "      <td>44</td>\n",
       "      <td>2</td>\n",
       "      <td>65</td>\n",
       "      <td>22257</td>\n",
       "      <td>282</td>\n",
       "    </tr>\n",
       "    <tr>\n",
       "      <th>3</th>\n",
       "      <td>11554125</td>\n",
       "      <td>JC101713</td>\n",
       "      <td>12/31/2018 11:00:00 PM</td>\n",
       "      <td>058XX S DAMEN AVE</td>\n",
       "      <td>810</td>\n",
       "      <td>THEFT</td>\n",
       "      <td>OVER $500</td>\n",
       "      <td>RESIDENTIAL YARD (FRONT/BACK)</td>\n",
       "      <td>False</td>\n",
       "      <td>False</td>\n",
       "      <td>...</td>\n",
       "      <td>1166121.345</td>\n",
       "      <td>1862956.686</td>\n",
       "      <td>41.779530</td>\n",
       "      <td>-87.666527</td>\n",
       "      <td>(41.779530386, -87.6665265092)</td>\n",
       "      <td>44</td>\n",
       "      <td>3</td>\n",
       "      <td>65</td>\n",
       "      <td>22257</td>\n",
       "      <td>276</td>\n",
       "    </tr>\n",
       "  </tbody>\n",
       "</table>\n",
       "<p>4 rows × 44 columns</p>\n",
       "</div>"
      ],
      "text/plain": [
       "         ID Case Number                    Date              Block  IUCR  \\\n",
       "0  11561837    JC110056  12/31/2018 11:59:00 PM    013XX W 72ND ST  1153   \n",
       "1  11561837    JC110056  12/31/2018 11:59:00 PM    013XX W 72ND ST  1153   \n",
       "2  11554125    JC101713  12/31/2018 11:00:00 PM  058XX S DAMEN AVE   810   \n",
       "3  11554125    JC101713  12/31/2018 11:00:00 PM  058XX S DAMEN AVE   810   \n",
       "\n",
       "         Primary_Type                          Description  \\\n",
       "0  DECEPTIVE PRACTICE  FINANCIAL IDENTITY THEFT OVER $ 300   \n",
       "1  DECEPTIVE PRACTICE  FINANCIAL IDENTITY THEFT OVER $ 300   \n",
       "2               THEFT                            OVER $500   \n",
       "3               THEFT                            OVER $500   \n",
       "\n",
       "            Location_Description  Arrest  Domestic      ...        \\\n",
       "0                            NaN   False     False      ...         \n",
       "1                            NaN   False     False      ...         \n",
       "2  RESIDENTIAL YARD (FRONT/BACK)   False     False      ...         \n",
       "3  RESIDENTIAL YARD (FRONT/BACK)   False     False      ...         \n",
       "\n",
       "   X_Coordinate  Y_Coordinate   Latitude  Longitude  \\\n",
       "0   1163257.203   1862800.707  41.779163 -87.677031   \n",
       "1   1166121.345   1862956.686  41.779530 -87.666527   \n",
       "2   1163257.203   1862800.707  41.779163 -87.677031   \n",
       "3   1166121.345   1862956.686  41.779530 -87.666527   \n",
       "\n",
       "                          Location  Historical_Wards_2003-2015  Wards_y  \\\n",
       "0  (41.7791628235, -87.6770311971)                          44        2   \n",
       "1   (41.779530386, -87.6665265092)                          44        3   \n",
       "2  (41.7791628235, -87.6770311971)                          44        2   \n",
       "3   (41.779530386, -87.6665265092)                          44        3   \n",
       "\n",
       "   Community_Areas  Zip_Codes  Census_Tracts  \n",
       "0               65      22257            282  \n",
       "1               65      22257            276  \n",
       "2               65      22257            282  \n",
       "3               65      22257            276  \n",
       "\n",
       "[4 rows x 44 columns]"
      ]
     },
     "execution_count": 89,
     "metadata": {},
     "output_type": "execute_result"
    }
   ],
   "source": [
    "data.head(4)"
   ]
  },
  {
   "cell_type": "code",
   "execution_count": 17,
   "metadata": {},
   "outputs": [
    {
     "data": {
      "text/plain": [
       "<matplotlib.axes._subplots.AxesSubplot at 0x25d6a2db4a8>"
      ]
     },
     "execution_count": 17,
     "metadata": {},
     "output_type": "execute_result"
    },
    {
     "data": {
      "image/png": "[encoded data removed]",
      "text/plain": [
       "<Figure size 432x288 with 1 Axes>"
      ]
     },
     "metadata": {
      "needs_background": "light"
     },
     "output_type": "display_data"
    }
   ],
   "source": [
    "data['Community_Area_Name'].value_counts().tail(5).plot('barh')\n"
   ]
  },
  {
   "cell_type": "markdown",
   "metadata": {},
   "source": [
    "# 4.\tHow many times police made arrests when crime happened on streets?"
   ]
  },
  {
   "cell_type": "code",
   "execution_count": 18,
   "metadata": {},
   "outputs": [
    {
     "data": {
      "text/plain": [
       "12527"
      ]
     },
     "execution_count": 18,
     "metadata": {},
     "output_type": "execute_result"
    }
   ],
   "source": [
    "crime[(crime['Arrest']==True)&(crime['Location_Description']=='STREET')]['ID'].count()"
   ]
  },
  {
   "cell_type": "markdown",
   "metadata": {},
   "source": [
    "# 5.\tFind total no. of crimes recorded in 2018."
   ]
  },
  {
   "cell_type": "code",
   "execution_count": 19,
   "metadata": {},
   "outputs": [
    {
     "data": {
      "text/plain": [
       "266870"
      ]
     },
     "execution_count": 19,
     "metadata": {},
     "output_type": "execute_result"
    }
   ],
   "source": [
    "len(crime['Case Number'].unique())"
   ]
  },
  {
   "cell_type": "markdown",
   "metadata": {},
   "source": [
    "# 6.\tAnalyse month wise crimes and plot the same, also determine in which 3 months crime rate is high"
   ]
  },
  {
   "cell_type": "code",
   "execution_count": 20,
   "metadata": {},
   "outputs": [
    {
     "data": {
      "text/plain": [
       "<matplotlib.axes._subplots.AxesSubplot at 0x25d0003a828>"
      ]
     },
     "execution_count": 20,
     "metadata": {},
     "output_type": "execute_result"
    },
    {
     "data": {
      "image/png": "[encoded data removed]",
      "text/plain": [
       "<Figure size 432x288 with 1 Axes>"
      ]
     },
     "metadata": {
      "needs_background": "light"
     },
     "output_type": "display_data"
    }
   ],
   "source": [
    "crime.groupby('Month')['ID'].count().plot('bar')\n",
    "crime.groupby('Month')['ID'].count().plot('line')"
   ]
  },
  {
   "cell_type": "markdown",
   "metadata": {},
   "source": [
    "# 7.\tAnalyse day wise crimes and plot the same, also determine in which 5 days crime rate is high "
   ]
  },
  {
   "cell_type": "code",
   "execution_count": 21,
   "metadata": {},
   "outputs": [],
   "source": [
    "crime['Day'] = pd.DatetimeIndex(crime['Date']).day"
   ]
  },
  {
   "cell_type": "code",
   "execution_count": 22,
   "metadata": {},
   "outputs": [
    {
     "data": {
      "text/plain": [
       "array([31, 30, 29, 28, 27, 26, 25, 24, 23, 22, 21, 20, 19, 18, 17, 16, 15,\n",
       "       14, 13, 12, 11, 10,  9,  8,  7,  6,  5,  4,  3,  2,  1],\n",
       "      dtype=int64)"
      ]
     },
     "execution_count": 22,
     "metadata": {},
     "output_type": "execute_result"
    }
   ],
   "source": [
    "crime['Day'].unique()"
   ]
  },
  {
   "cell_type": "code",
   "execution_count": 23,
   "metadata": {},
   "outputs": [
    {
     "data": {
      "text/plain": [
       "<matplotlib.axes._subplots.AxesSubplot at 0x25d000d8748>"
      ]
     },
     "execution_count": 23,
     "metadata": {},
     "output_type": "execute_result"
    },
    {
     "data": {
      "image/png": "[encoded data removed]",
      "text/plain": [
       "<Figure size 432x288 with 1 Axes>"
      ]
     },
     "metadata": {
      "needs_background": "light"
     },
     "output_type": "display_data"
    }
   ],
   "source": [
    "crime.groupby('Day')['ID'].count().plot('line')"
   ]
  },
  {
   "cell_type": "markdown",
   "metadata": {},
   "source": [
    "# 8.\tAnalyse Monthly Domestic Violence."
   ]
  },
  {
   "cell_type": "code",
   "execution_count": 24,
   "metadata": {},
   "outputs": [],
   "source": [
    "c1 = crime[crime['Domestic']==True]"
   ]
  },
  {
   "cell_type": "code",
   "execution_count": 25,
   "metadata": {},
   "outputs": [
    {
     "data": {
      "text/plain": [
       "<matplotlib.axes._subplots.AxesSubplot at 0x25d00134a20>"
      ]
     },
     "execution_count": 25,
     "metadata": {},
     "output_type": "execute_result"
    },
    {
     "data": {
      "image/png": "[encoded data removed]",
      "text/plain": [
       "<Figure size 432x288 with 1 Axes>"
      ]
     },
     "metadata": {
      "needs_background": "light"
     },
     "output_type": "display_data"
    }
   ],
   "source": [
    "c1.groupby('Month')['ID'].count().plot('bar')\n",
    "c1.groupby('Month')['ID'].count().plot('line')\n"
   ]
  },
  {
   "cell_type": "markdown",
   "metadata": {},
   "source": [
    "# 9.\tFind 5 safest districts and 5 dangerous districts to live."
   ]
  },
  {
   "cell_type": "code",
   "execution_count": 26,
   "metadata": {},
   "outputs": [
    {
     "data": {
      "text/plain": [
       "<matplotlib.axes._subplots.AxesSubplot at 0x25d001c4550>"
      ]
     },
     "execution_count": 26,
     "metadata": {},
     "output_type": "execute_result"
    },
    {
     "data": {
      "image/png": "[encoded data removed]",
      "text/plain": [
       "<Figure size 432x288 with 1 Axes>"
      ]
     },
     "metadata": {
      "needs_background": "light"
     },
     "output_type": "display_data"
    }
   ],
   "source": [
    "crime['District'].value_counts().head().plot('bar')"
   ]
  },
  {
   "cell_type": "code",
   "execution_count": 27,
   "metadata": {},
   "outputs": [
    {
     "data": {
      "text/plain": [
       "<matplotlib.axes._subplots.AxesSubplot at 0x25d04ecfe48>"
      ]
     },
     "execution_count": 27,
     "metadata": {},
     "output_type": "execute_result"
    },
    {
     "data": {
      "image/png": "[encoded data removed]",
      "text/plain": [
       "<Figure size 432x288 with 1 Axes>"
      ]
     },
     "metadata": {
      "needs_background": "light"
     },
     "output_type": "display_data"
    }
   ],
   "source": [
    "crime['District'].value_counts().tail().plot('barh')"
   ]
  },
  {
   "cell_type": "markdown",
   "metadata": {},
   "source": [
    "# 10.\tWhat are the most happening crimes in the month of Christmas?"
   ]
  },
  {
   "cell_type": "code",
   "execution_count": 28,
   "metadata": {},
   "outputs": [],
   "source": [
    "x = pd.DataFrame(crime[crime['Month']==12].groupby(['Primary_Type'])['ID'].count())"
   ]
  },
  {
   "cell_type": "code",
   "execution_count": 29,
   "metadata": {},
   "outputs": [],
   "source": [
    "x = x.reset_index()"
   ]
  },
  {
   "cell_type": "code",
   "execution_count": 30,
   "metadata": {},
   "outputs": [],
   "source": [
    "x = x.sort_values('ID',ascending=False)"
   ]
  },
  {
   "cell_type": "code",
   "execution_count": 31,
   "metadata": {},
   "outputs": [],
   "source": [
    "y = x.head()"
   ]
  },
  {
   "cell_type": "code",
   "execution_count": 32,
   "metadata": {},
   "outputs": [
    {
     "data": {
      "text/html": [
       "<div>\n",
       "<style scoped>\n",
       "    .dataframe tbody tr th:only-of-type {\n",
       "        vertical-align: middle;\n",
       "    }\n",
       "\n",
       "    .dataframe tbody tr th {\n",
       "        vertical-align: top;\n",
       "    }\n",
       "\n",
       "    .dataframe thead th {\n",
       "        text-align: right;\n",
       "    }\n",
       "</style>\n",
       "<table border=\"1\" class=\"dataframe\">\n",
       "  <thead>\n",
       "    <tr style=\"text-align: right;\">\n",
       "      <th></th>\n",
       "      <th>Primary_Type</th>\n",
       "      <th>ID</th>\n",
       "    </tr>\n",
       "  </thead>\n",
       "  <tbody>\n",
       "    <tr>\n",
       "      <th>28</th>\n",
       "      <td>THEFT</td>\n",
       "      <td>5671</td>\n",
       "    </tr>\n",
       "    <tr>\n",
       "      <th>2</th>\n",
       "      <td>BATTERY</td>\n",
       "      <td>3854</td>\n",
       "    </tr>\n",
       "    <tr>\n",
       "      <th>6</th>\n",
       "      <td>CRIMINAL DAMAGE</td>\n",
       "      <td>2245</td>\n",
       "    </tr>\n",
       "    <tr>\n",
       "      <th>1</th>\n",
       "      <td>ASSAULT</td>\n",
       "      <td>1590</td>\n",
       "    </tr>\n",
       "    <tr>\n",
       "      <th>8</th>\n",
       "      <td>DECEPTIVE PRACTICE</td>\n",
       "      <td>1587</td>\n",
       "    </tr>\n",
       "  </tbody>\n",
       "</table>\n",
       "</div>"
      ],
      "text/plain": [
       "          Primary_Type    ID\n",
       "28               THEFT  5671\n",
       "2              BATTERY  3854\n",
       "6      CRIMINAL DAMAGE  2245\n",
       "1              ASSAULT  1590\n",
       "8   DECEPTIVE PRACTICE  1587"
      ]
     },
     "execution_count": 32,
     "metadata": {},
     "output_type": "execute_result"
    }
   ],
   "source": [
    "y"
   ]
  },
  {
   "cell_type": "code",
   "execution_count": 49,
   "metadata": {},
   "outputs": [
    {
     "data": {
      "text/plain": [
       "<Figure size 2880x1440 with 0 Axes>"
      ]
     },
     "execution_count": 49,
     "metadata": {},
     "output_type": "execute_result"
    },
    {
     "data": {
      "image/png": "[encoded data removed]",
      "text/plain": [
       "<Figure size 432x288 with 1 Axes>"
      ]
     },
     "metadata": {
      "needs_background": "light"
     },
     "output_type": "display_data"
    },
    {
     "data": {
      "text/plain": [
       "<Figure size 2880x1440 with 0 Axes>"
      ]
     },
     "metadata": {},
     "output_type": "display_data"
    }
   ],
   "source": [
    "plt.bar(y.Primary_Type,y.ID,color='coral')\n",
    "plt.xlabel('Type of Crime')\n",
    "plt.ylabel('No of crimes')\n",
    "plt.title('Most happening Crimes in month of Christmas')\n",
    "plt.figure(figsize=(40,20))"
   ]
  },
  {
   "cell_type": "markdown",
   "metadata": {},
   "source": [
    "# 11.\tFind no of Kidnap crimes happened on Streets, Side Walk"
   ]
  },
  {
   "cell_type": "code",
   "execution_count": 47,
   "metadata": {},
   "outputs": [
    {
     "data": {
      "text/plain": [
       "74"
      ]
     },
     "execution_count": 47,
     "metadata": {},
     "output_type": "execute_result"
    }
   ],
   "source": [
    "crime[(crime['Primary_Type']=='KIDNAPPING')&((crime['Location_Description'] == 'STREET')|(crime['Location_Description'] == 'SIDEWALK'))]['ID'].count()"
   ]
  },
  {
   "cell_type": "code",
   "execution_count": 61,
   "metadata": {},
   "outputs": [
    {
     "data": {
      "text/plain": [
       "Index(['ID', 'Case Number', 'Date', 'Block', 'IUCR', 'Primary_Type',\n",
       "       'Description', 'Location_Description', 'Arrest', 'Domestic', 'Beat',\n",
       "       'District', 'Ward', 'Community_Area_Number', 'FBI Code', 'X Coordinate',\n",
       "       'Y Coordinate', 'Year', 'Historical Wards 2003-2015', 'Zip Codes',\n",
       "       'Community Areas', 'Census Tracts', 'Wards', 'Boundaries - ZIP Codes',\n",
       "       'Police_Districts', 'Police Beats', 'Month', 'Day'],\n",
       "      dtype='object')"
      ]
     },
     "execution_count": 61,
     "metadata": {},
     "output_type": "execute_result"
    }
   ],
   "source": [
    "crime.columns"
   ]
  },
  {
   "cell_type": "code",
   "execution_count": 68,
   "metadata": {},
   "outputs": [
    {
     "data": {
      "text/plain": [
       "<matplotlib.axes._subplots.AxesSubplot at 0x25d4b8dbf28>"
      ]
     },
     "execution_count": 68,
     "metadata": {},
     "output_type": "execute_result"
    },
    {
     "data": {
      "image/png": "[encoded data removed]",
      "text/plain": [
       "<Figure size 432x288 with 2 Axes>"
      ]
     },
     "metadata": {
      "needs_background": "light"
     },
     "output_type": "display_data"
    }
   ],
   "source": [
    "import seaborn as sb\n",
    "sb.heatmap(crime.corr())"
   ]
  },
  {
   "cell_type": "code",
   "execution_count": 69,
   "metadata": {},
   "outputs": [
    {
     "data": {
      "text/plain": [
       "<matplotlib.axes._subplots.AxesSubplot at 0x25d4b9367b8>"
      ]
     },
     "execution_count": 69,
     "metadata": {},
     "output_type": "execute_result"
    },
    {
     "data": {
      "image/png": "[encoded data removed]",
      "text/plain": [
       "<Figure size 432x288 with 2 Axes>"
      ]
     },
     "metadata": {
      "needs_background": "light"
     },
     "output_type": "display_data"
    }
   ],
   "source": [
    "sb.heatmap(housing.corr())"
   ]
  },
  {
   "cell_type": "code",
   "execution_count": 81,
   "metadata": {},
   "outputs": [
    {
     "data": {
      "text/plain": [
       "(847299, 43)"
      ]
     },
     "execution_count": 81,
     "metadata": {},
     "output_type": "execute_result"
    }
   ],
   "source": [
    "data.shape"
   ]
  },
  {
   "cell_type": "code",
   "execution_count": 79,
   "metadata": {},
   "outputs": [
    {
     "data": {
      "text/plain": [
       "(266893, 26)"
      ]
     },
     "execution_count": 79,
     "metadata": {},
     "output_type": "execute_result"
    }
   ],
   "source": [
    "crime.shape"
   ]
  },
  {
   "cell_type": "code",
   "execution_count": 92,
   "metadata": {},
   "outputs": [
    {
     "data": {
      "text/plain": [
       "Primary_Type\n",
       "ARSON                                  373\n",
       "ASSAULT                              20390\n",
       "BATTERY                              49791\n",
       "BURGLARY                             11734\n",
       "CONCEALED CARRY LICENSE VIOLATION      149\n",
       "CRIM SEXUAL ASSAULT                   1628\n",
       "CRIMINAL DAMAGE                      27816\n",
       "CRIMINAL TRESPASS                     6905\n",
       "DECEPTIVE PRACTICE                   18937\n",
       "GAMBLING                               201\n",
       "HOMICIDE                               589\n",
       "HUMAN TRAFFICKING                       12\n",
       "INTERFERENCE WITH PUBLIC OFFICER      1305\n",
       "INTIMIDATION                           169\n",
       "KIDNAPPING                             171\n",
       "LIQUOR LAW VIOLATION                   268\n",
       "MOTOR VEHICLE THEFT                   9979\n",
       "NARCOTICS                            13231\n",
       "NON-CRIMINAL                            36\n",
       "NON-CRIMINAL (SUBJECT SPECIFIED)         3\n",
       "OBSCENITY                               87\n",
       "OFFENSE INVOLVING CHILDREN            2240\n",
       "OTHER NARCOTIC VIOLATION                 1\n",
       "OTHER OFFENSE                        17167\n",
       "PROSTITUTION                           718\n",
       "PUBLIC INDECENCY                        14\n",
       "PUBLIC PEACE VIOLATION                1371\n",
       "ROBBERY                               9682\n",
       "SEX OFFENSE                           1114\n",
       "STALKING                               204\n",
       "THEFT                                65155\n",
       "WEAPONS VIOLATION                     5453\n",
       "Name: ID, dtype: int64"
      ]
     },
     "execution_count": 92,
     "metadata": {},
     "output_type": "execute_result"
    }
   ],
   "source": [
    "crime.groupby(['Primary_Type'])['ID'].count()"
   ]
  }
 ],
 "metadata": {
  "kernelspec": {
   "display_name": "Python 3",
   "language": "python",
   "name": "python3"
  },
  "language_info": {
   "codemirror_mode": {
    "name": "ipython",
    "version": 3
   },
   "file_extension": ".py",
   "mimetype": "text/x-python",
   "name": "python",
   "nbconvert_exporter": "python",
   "pygments_lexer": "ipython3",
   "version": "3.7.1"
  }
 },
 "nbformat": 4,
 "nbformat_minor": 2
}
